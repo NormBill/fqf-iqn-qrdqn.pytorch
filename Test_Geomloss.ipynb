{
  "cells": [
    {
      "cell_type": "markdown",
      "metadata": {
        "id": "view-in-github",
        "colab_type": "text"
      },
      "source": [
        "<a href=\"https://colab.research.google.com/github/NormBill/fqf-iqn-qrdqn.pytorch/blob/master/Test_Geomloss.ipynb\" target=\"_parent\"><img src=\"https://colab.research.google.com/assets/colab-badge.svg\" alt=\"Open In Colab\"/></a>"
      ]
    },
    {
      "cell_type": "code",
      "execution_count": 1,
      "metadata": {
        "colab": {
          "base_uri": "https://localhost:8080/"
        },
        "id": "BQLOqSUR7CmO",
        "outputId": "ee834e1e-ee82-4902-9d2d-95d9a1680b94"
      },
      "outputs": [
        {
          "output_type": "stream",
          "name": "stdout",
          "text": [
            "Cloning into 'fqf-iqn-qrdqn.pytorch'...\n",
            "remote: Enumerating objects: 699, done.\u001b[K\n",
            "remote: Counting objects: 100% (148/148), done.\u001b[K\n",
            "remote: Compressing objects: 100% (25/25), done.\u001b[K\n",
            "remote: Total 699 (delta 131), reused 127 (delta 123), pack-reused 551 (from 1)\u001b[K\n",
            "Receiving objects: 100% (699/699), 121.47 KiB | 2.21 MiB/s, done.\n",
            "Resolving deltas: 100% (460/460), done.\n"
          ]
        }
      ],
      "source": [
        "!git clone https://github.com/NormBill/fqf-iqn-qrdqn.pytorch.git"
      ]
    },
    {
      "cell_type": "code",
      "execution_count": 2,
      "metadata": {
        "colab": {
          "base_uri": "https://localhost:8080/"
        },
        "id": "5m29AeX67Xdl",
        "outputId": "9aeb306c-e62f-4b27-d108-de7180887f3d"
      },
      "outputs": [
        {
          "output_type": "stream",
          "name": "stdout",
          "text": [
            "Requirement already satisfied: pip in /usr/local/lib/python3.10/dist-packages (24.1.2)\n",
            "Collecting pip\n",
            "  Downloading pip-24.3.1-py3-none-any.whl.metadata (3.7 kB)\n",
            "Downloading pip-24.3.1-py3-none-any.whl (1.8 MB)\n",
            "\u001b[2K   \u001b[90m━━━━━━━━━━━━━━━━━━━━━━━━━━━━━━━━━━━━━━━━\u001b[0m \u001b[32m1.8/1.8 MB\u001b[0m \u001b[31m17.7 MB/s\u001b[0m eta \u001b[36m0:00:00\u001b[0m\n",
            "\u001b[?25hInstalling collected packages: pip\n",
            "  Attempting uninstall: pip\n",
            "    Found existing installation: pip 24.1.2\n",
            "    Uninstalling pip-24.1.2:\n",
            "      Successfully uninstalled pip-24.1.2\n",
            "Successfully installed pip-24.3.1\n",
            "/content/fqf-iqn-qrdqn.pytorch\n"
          ]
        }
      ],
      "source": [
        "!pip install --upgrade pip\n",
        "%cd fqf-iqn-qrdqn.pytorch/"
      ]
    },
    {
      "cell_type": "code",
      "execution_count": 3,
      "metadata": {
        "colab": {
          "base_uri": "https://localhost:8080/"
        },
        "id": "chVSlKcWAEED",
        "outputId": "c94d4b4c-960c-4f2b-e7e7-63a614ba3c35"
      },
      "outputs": [
        {
          "output_type": "stream",
          "name": "stdout",
          "text": [
            "Requirement already satisfied: gym[accept-rom-license] in /usr/local/lib/python3.10/dist-packages (0.25.2)\n",
            "Requirement already satisfied: numpy>=1.18.0 in /usr/local/lib/python3.10/dist-packages (from gym[accept-rom-license]) (1.26.4)\n",
            "Requirement already satisfied: cloudpickle>=1.2.0 in /usr/local/lib/python3.10/dist-packages (from gym[accept-rom-license]) (3.1.0)\n",
            "Requirement already satisfied: gym-notices>=0.0.4 in /usr/local/lib/python3.10/dist-packages (from gym[accept-rom-license]) (0.0.8)\n",
            "Collecting autorom~=0.4.2 (from autorom[accept-rom-license]~=0.4.2; extra == \"accept-rom-license\"->gym[accept-rom-license])\n",
            "  Downloading AutoROM-0.4.2-py3-none-any.whl.metadata (2.8 kB)\n",
            "Requirement already satisfied: click in /usr/local/lib/python3.10/dist-packages (from autorom~=0.4.2->autorom[accept-rom-license]~=0.4.2; extra == \"accept-rom-license\"->gym[accept-rom-license]) (8.1.7)\n",
            "Requirement already satisfied: requests in /usr/local/lib/python3.10/dist-packages (from autorom~=0.4.2->autorom[accept-rom-license]~=0.4.2; extra == \"accept-rom-license\"->gym[accept-rom-license]) (2.32.3)\n",
            "Requirement already satisfied: tqdm in /usr/local/lib/python3.10/dist-packages (from autorom~=0.4.2->autorom[accept-rom-license]~=0.4.2; extra == \"accept-rom-license\"->gym[accept-rom-license]) (4.66.6)\n",
            "Collecting AutoROM.accept-rom-license (from autorom[accept-rom-license]~=0.4.2; extra == \"accept-rom-license\"->gym[accept-rom-license])\n",
            "  Downloading AutoROM.accept-rom-license-0.6.1.tar.gz (434 kB)\n",
            "  Installing build dependencies ... \u001b[?25l\u001b[?25hdone\n",
            "  Getting requirements to build wheel ... \u001b[?25l\u001b[?25hdone\n",
            "  Preparing metadata (pyproject.toml) ... \u001b[?25l\u001b[?25hdone\n",
            "Requirement already satisfied: charset-normalizer<4,>=2 in /usr/local/lib/python3.10/dist-packages (from requests->autorom~=0.4.2->autorom[accept-rom-license]~=0.4.2; extra == \"accept-rom-license\"->gym[accept-rom-license]) (3.4.0)\n",
            "Requirement already satisfied: idna<4,>=2.5 in /usr/local/lib/python3.10/dist-packages (from requests->autorom~=0.4.2->autorom[accept-rom-license]~=0.4.2; extra == \"accept-rom-license\"->gym[accept-rom-license]) (3.10)\n",
            "Requirement already satisfied: urllib3<3,>=1.21.1 in /usr/local/lib/python3.10/dist-packages (from requests->autorom~=0.4.2->autorom[accept-rom-license]~=0.4.2; extra == \"accept-rom-license\"->gym[accept-rom-license]) (2.2.3)\n",
            "Requirement already satisfied: certifi>=2017.4.17 in /usr/local/lib/python3.10/dist-packages (from requests->autorom~=0.4.2->autorom[accept-rom-license]~=0.4.2; extra == \"accept-rom-license\"->gym[accept-rom-license]) (2024.8.30)\n",
            "Downloading AutoROM-0.4.2-py3-none-any.whl (16 kB)\n",
            "Building wheels for collected packages: AutoROM.accept-rom-license\n",
            "  Building wheel for AutoROM.accept-rom-license (pyproject.toml) ... \u001b[?25l\u001b[?25hdone\n",
            "  Created wheel for AutoROM.accept-rom-license: filename=AutoROM.accept_rom_license-0.6.1-py3-none-any.whl size=446661 sha256=0c5c0b508f1540be426b0f60c92fa09396bc609df8dee63220616c8314f1362c\n",
            "  Stored in directory: /root/.cache/pip/wheels/6b/1b/ef/a43ff1a2f1736d5711faa1ba4c1f61be1131b8899e6a057811\n",
            "Successfully built AutoROM.accept-rom-license\n",
            "Installing collected packages: AutoROM.accept-rom-license, autorom\n",
            "Successfully installed AutoROM.accept-rom-license-0.6.1 autorom-0.4.2\n",
            "Requirement already satisfied: numpy in /usr/local/lib/python3.10/dist-packages (1.26.4)\n",
            "Collecting ale-py\n",
            "  Downloading ale_py-0.10.1-cp310-cp310-manylinux_2_17_x86_64.manylinux2014_x86_64.whl.metadata (7.6 kB)\n",
            "Requirement already satisfied: numpy>1.20 in /usr/local/lib/python3.10/dist-packages (from ale-py) (1.26.4)\n",
            "Requirement already satisfied: typing-extensions in /usr/local/lib/python3.10/dist-packages (from ale-py) (4.12.2)\n",
            "Downloading ale_py-0.10.1-cp310-cp310-manylinux_2_17_x86_64.manylinux2014_x86_64.whl (2.1 MB)\n",
            "\u001b[2K   \u001b[90m━━━━━━━━━━━━━━━━━━━━━━━━━━━━━━━━━━━━━━━━\u001b[0m \u001b[32m2.1/2.1 MB\u001b[0m \u001b[31m30.8 MB/s\u001b[0m eta \u001b[36m0:00:00\u001b[0m\n",
            "\u001b[?25hInstalling collected packages: ale-py\n",
            "Successfully installed ale-py-0.10.1\n",
            "Requirement already satisfied: pyyaml in /usr/local/lib/python3.10/dist-packages (6.0.2)\n",
            "Requirement already satisfied: gym[atari] in /usr/local/lib/python3.10/dist-packages (0.25.2)\n",
            "Requirement already satisfied: numpy>=1.18.0 in /usr/local/lib/python3.10/dist-packages (from gym[atari]) (1.26.4)\n",
            "Requirement already satisfied: cloudpickle>=1.2.0 in /usr/local/lib/python3.10/dist-packages (from gym[atari]) (3.1.0)\n",
            "Requirement already satisfied: gym-notices>=0.0.4 in /usr/local/lib/python3.10/dist-packages (from gym[atari]) (0.0.8)\n",
            "Collecting ale-py~=0.7.5 (from gym[atari])\n",
            "  Downloading ale_py-0.7.5-cp310-cp310-manylinux_2_17_x86_64.manylinux2014_x86_64.whl.metadata (8.1 kB)\n",
            "Requirement already satisfied: importlib-resources in /usr/local/lib/python3.10/dist-packages (from ale-py~=0.7.5->gym[atari]) (6.4.5)\n",
            "Downloading ale_py-0.7.5-cp310-cp310-manylinux_2_17_x86_64.manylinux2014_x86_64.whl (1.6 MB)\n",
            "\u001b[2K   \u001b[90m━━━━━━━━━━━━━━━━━━━━━━━━━━━━━━━━━━━━━━━━\u001b[0m \u001b[32m1.6/1.6 MB\u001b[0m \u001b[31m24.1 MB/s\u001b[0m eta \u001b[36m0:00:00\u001b[0m\n",
            "\u001b[?25hInstalling collected packages: ale-py\n",
            "  Attempting uninstall: ale-py\n",
            "    Found existing installation: ale-py 0.10.1\n",
            "    Uninstalling ale-py-0.10.1:\n",
            "      Successfully uninstalled ale-py-0.10.1\n",
            "Successfully installed ale-py-0.7.5\n",
            "Requirement already satisfied: tensorboard in /usr/local/lib/python3.10/dist-packages (2.17.0)\n",
            "Requirement already satisfied: absl-py>=0.4 in /usr/local/lib/python3.10/dist-packages (from tensorboard) (1.4.0)\n",
            "Requirement already satisfied: grpcio>=1.48.2 in /usr/local/lib/python3.10/dist-packages (from tensorboard) (1.67.1)\n",
            "Requirement already satisfied: markdown>=2.6.8 in /usr/local/lib/python3.10/dist-packages (from tensorboard) (3.7)\n",
            "Requirement already satisfied: numpy>=1.12.0 in /usr/local/lib/python3.10/dist-packages (from tensorboard) (1.26.4)\n",
            "Requirement already satisfied: protobuf!=4.24.0,<5.0.0,>=3.19.6 in /usr/local/lib/python3.10/dist-packages (from tensorboard) (4.25.5)\n",
            "Requirement already satisfied: setuptools>=41.0.0 in /usr/local/lib/python3.10/dist-packages (from tensorboard) (75.1.0)\n",
            "Requirement already satisfied: six>1.9 in /usr/local/lib/python3.10/dist-packages (from tensorboard) (1.16.0)\n",
            "Requirement already satisfied: tensorboard-data-server<0.8.0,>=0.7.0 in /usr/local/lib/python3.10/dist-packages (from tensorboard) (0.7.2)\n",
            "Requirement already satisfied: werkzeug>=1.0.1 in /usr/local/lib/python3.10/dist-packages (from tensorboard) (3.1.3)\n",
            "Requirement already satisfied: MarkupSafe>=2.1.1 in /usr/local/lib/python3.10/dist-packages (from werkzeug>=1.0.1->tensorboard) (3.0.2)\n",
            "Collecting geomloss\n",
            "  Downloading geomloss-0.2.6.tar.gz (26 kB)\n",
            "  Preparing metadata (setup.py) ... \u001b[?25l\u001b[?25hdone\n",
            "Requirement already satisfied: numpy in /usr/local/lib/python3.10/dist-packages (from geomloss) (1.26.4)\n",
            "Requirement already satisfied: torch in /usr/local/lib/python3.10/dist-packages (from geomloss) (2.5.0+cu121)\n",
            "Requirement already satisfied: filelock in /usr/local/lib/python3.10/dist-packages (from torch->geomloss) (3.16.1)\n",
            "Requirement already satisfied: typing-extensions>=4.8.0 in /usr/local/lib/python3.10/dist-packages (from torch->geomloss) (4.12.2)\n",
            "Requirement already satisfied: networkx in /usr/local/lib/python3.10/dist-packages (from torch->geomloss) (3.4.2)\n",
            "Requirement already satisfied: jinja2 in /usr/local/lib/python3.10/dist-packages (from torch->geomloss) (3.1.4)\n",
            "Requirement already satisfied: fsspec in /usr/local/lib/python3.10/dist-packages (from torch->geomloss) (2024.10.0)\n",
            "Requirement already satisfied: sympy==1.13.1 in /usr/local/lib/python3.10/dist-packages (from torch->geomloss) (1.13.1)\n",
            "Requirement already satisfied: mpmath<1.4,>=1.1.0 in /usr/local/lib/python3.10/dist-packages (from sympy==1.13.1->torch->geomloss) (1.3.0)\n",
            "Requirement already satisfied: MarkupSafe>=2.0 in /usr/local/lib/python3.10/dist-packages (from jinja2->torch->geomloss) (3.0.2)\n",
            "Building wheels for collected packages: geomloss\n",
            "  Building wheel for geomloss (setup.py) ... \u001b[?25l\u001b[?25hdone\n",
            "  Created wheel for geomloss: filename=geomloss-0.2.6-py3-none-any.whl size=32246 sha256=0a89c6132ab6d4dfd28b821406baf2e1cc6816c5bfeccd5ed903ea4a9df14520\n",
            "  Stored in directory: /root/.cache/pip/wheels/0d/c9/80/4387eb03aa215ae557869d6fe8be498fd3d3cf297db2357b67\n",
            "Successfully built geomloss\n",
            "Installing collected packages: geomloss\n",
            "Successfully installed geomloss-0.2.6\n"
          ]
        }
      ],
      "source": [
        "!pip install gym[accept-rom-license]\n",
        "!pip install numpy\n",
        "!pip install ale-py\n",
        "!pip install pyyaml\n",
        "!pip install gym[atari]\n",
        "!pip install tensorboard\n",
        "!pip install geomloss"
      ]
    },
    {
      "cell_type": "code",
      "execution_count": null,
      "metadata": {
        "colab": {
          "base_uri": "https://localhost:8080/"
        },
        "id": "JyeAjO4m7khh",
        "outputId": "ff4099cf-b830-4229-af6c-09c411de4789"
      },
      "outputs": [
        {
          "output_type": "stream",
          "name": "stdout",
          "text": [
            "2024-11-13 06:09:53.463448: E external/local_xla/xla/stream_executor/cuda/cuda_fft.cc:485] Unable to register cuFFT factory: Attempting to register factory for plugin cuFFT when one has already been registered\n",
            "2024-11-13 06:09:53.488460: E external/local_xla/xla/stream_executor/cuda/cuda_dnn.cc:8454] Unable to register cuDNN factory: Attempting to register factory for plugin cuDNN when one has already been registered\n",
            "2024-11-13 06:09:53.496371: E external/local_xla/xla/stream_executor/cuda/cuda_blas.cc:1452] Unable to register cuBLAS factory: Attempting to register factory for plugin cuBLAS when one has already been registered\n",
            "2024-11-13 06:09:53.523759: I tensorflow/core/platform/cpu_feature_guard.cc:210] This TensorFlow binary is optimized to use available CPU instructions in performance-critical operations.\n",
            "To enable the following instructions: AVX2 FMA, in other operations, rebuild TensorFlow with the appropriate compiler flags.\n",
            "2024-11-13 06:09:55.060027: W tensorflow/compiler/tf2tensorrt/utils/py_utils.cc:38] TF-TRT Warning: Could not find TensorRT\n",
            "/usr/local/lib/python3.10/dist-packages/tensorflow/lite/python/util.py:55: DeprecationWarning: jax.xla_computation is deprecated. Please use the AOT APIs; see https://jax.readthedocs.io/en/latest/aot.html. For example, replace xla_computation(f)(*xs) with jit(f).lower(*xs).compiler_ir('hlo'). See CHANGELOG.md for 0.4.30 for more examples.\n",
            "  from jax import xla_computation as _xla_computation\n",
            "A.L.E: Arcade Learning Environment (version 0.7.5+db37282)\n",
            "[Powered by Stella]\n",
            "/usr/local/lib/python3.10/dist-packages/gym/core.py:317: DeprecationWarning: \u001b[33mWARN: Initializing wrapper in old step API which returns one bool instead of two. It is recommended to set `new_step_api=True` to use new step API. This will be the default behaviour in future.\u001b[0m\n",
            "  deprecation(\n",
            "/usr/local/lib/python3.10/dist-packages/gym/wrappers/step_api_compatibility.py:39: DeprecationWarning: \u001b[33mWARN: Initializing environment in old step API which returns one bool instead of two. It is recommended to set `new_step_api=True` to use new step API. This will be the default behaviour in future.\u001b[0m\n",
            "  deprecation(\n",
            "/usr/local/lib/python3.10/dist-packages/gym/utils/passive_env_checker.py:227: DeprecationWarning: \u001b[33mWARN: Core environment is written in old step API which returns one bool instead of two. It is recommended to rewrite the environment with new step API. \u001b[0m\n",
            "  logger.deprecation(\n",
            "/usr/local/lib/python3.10/dist-packages/gym/utils/passive_env_checker.py:233: DeprecationWarning: `np.bool8` is a deprecated alias for `np.bool_`.  (Deprecated NumPy 1.24)\n",
            "  if not isinstance(done, (bool, np.bool8)):\n",
            "Episode: 1     episode steps: 1022  return: -19.0\n",
            "Episode: 2     episode steps: 929   return: -20.0\n",
            "Episode: 3     episode steps: 780   return: -21.0\n",
            "Episode: 4     episode steps: 785   return: -21.0\n",
            "Episode: 5     episode steps: 848   return: -21.0\n",
            "Episode: 6     episode steps: 947   return: -19.0\n",
            "Episode: 7     episode steps: 946   return: -20.0\n",
            "Episode: 8     episode steps: 900   return: -20.0\n",
            "Episode: 9     episode steps: 1044  return: -21.0\n",
            "Episode: 10    episode steps: 838   return: -20.0\n",
            "Episode: 11    episode steps: 755   return: -21.0\n",
            "Episode: 12    episode steps: 881   return: -21.0\n",
            "Episode: 13    episode steps: 950   return: -20.0\n",
            "Episode: 14    episode steps: 885   return: -21.0\n",
            "Episode: 15    episode steps: 760   return: -21.0\n",
            "Episode: 16    episode steps: 819   return: -21.0\n",
            "Episode: 17    episode steps: 858   return: -20.0\n",
            "Episode: 18    episode steps: 956   return: -20.0\n",
            "Episode: 19    episode steps: 1001  return: -20.0\n",
            "Episode: 20    episode steps: 839   return: -21.0\n",
            "Episode: 21    episode steps: 787   return: -21.0\n",
            "Episode: 22    episode steps: 943   return: -20.0\n",
            "Episode: 23    episode steps: 952   return: -20.0\n",
            "Episode: 24    episode steps: 1066  return: -20.0\n",
            "Episode: 25    episode steps: 847   return: -21.0\n",
            "Episode: 26    episode steps: 875   return: -20.0\n",
            "Episode: 27    episode steps: 1047  return: -18.0\n",
            "Episode: 28    episode steps: 990   return: -21.0\n",
            "Episode: 29    episode steps: 835   return: -21.0\n",
            "Episode: 30    episode steps: 1411  return: -18.0\n",
            "Episode: 31    episode steps: 927   return: -20.0\n",
            "Episode: 32    episode steps: 895   return: -21.0\n",
            "Episode: 33    episode steps: 1071  return: -18.0\n",
            "Episode: 34    episode steps: 976   return: -20.0\n",
            "Episode: 35    episode steps: 965   return: -21.0\n",
            "Episode: 36    episode steps: 867   return: -21.0\n",
            "Episode: 37    episode steps: 817   return: -21.0\n",
            "Episode: 38    episode steps: 818   return: -21.0\n",
            "Episode: 39    episode steps: 932   return: -20.0\n",
            "Episode: 40    episode steps: 862   return: -20.0\n",
            "Episode: 41    episode steps: 847   return: -21.0\n",
            "Episode: 42    episode steps: 922   return: -20.0\n",
            "Episode: 43    episode steps: 902   return: -21.0\n",
            "Episode: 44    episode steps: 885   return: -20.0\n",
            "Episode: 45    episode steps: 1112  return: -19.0\n",
            "Episode: 46    episode steps: 924   return: -20.0\n",
            "Episode: 47    episode steps: 862   return: -20.0\n",
            "Episode: 48    episode steps: 968   return: -21.0\n",
            "Episode: 49    episode steps: 840   return: -21.0\n",
            "Episode: 50    episode steps: 929   return: -20.0\n",
            "Episode: 51    episode steps: 758   return: -21.0\n",
            "Episode: 52    episode steps: 994   return: -21.0\n",
            "Episode: 53    episode steps: 876   return: -21.0\n",
            "Episode: 54    episode steps: 900   return: -21.0\n",
            "/content/fqf-iqn-qrdqn.pytorch/fqf_iqn_qrdqn/agent/base_agent.py:118: UserWarning: Creating a tensor from a list of numpy.ndarrays is extremely slow. Please consider converting the list to a single numpy.ndarray with numpy.array() before converting to a tensor. (Triggered internally at ../torch/csrc/utils/tensor_new.cpp:278.)\n",
            "  state = torch.ByteTensor(\n",
            "Episode: 55    episode steps: 928   return: -20.0\n",
            "Episode: 56    episode steps: 966   return: -20.0\n",
            "Episode: 57    episode steps: 889   return: -20.0\n",
            "Episode: 58    episode steps: 934   return: -20.0\n",
            "Episode: 59    episode steps: 940   return: -21.0\n",
            "Episode: 60    episode steps: 922   return: -20.0\n",
            "Episode: 61    episode steps: 777   return: -21.0\n",
            "Episode: 62    episode steps: 1067  return: -19.0\n",
            "Episode: 63    episode steps: 950   return: -20.0\n",
            "Episode: 64    episode steps: 925   return: -20.0\n",
            "Episode: 65    episode steps: 1035  return: -20.0\n",
            "Episode: 66    episode steps: 1099  return: -19.0\n",
            "Episode: 67    episode steps: 785   return: -21.0\n",
            "Episode: 68    episode steps: 861   return: -20.0\n",
            "Episode: 69    episode steps: 1016  return: -20.0\n",
            "Episode: 70    episode steps: 755   return: -21.0\n",
            "Episode: 71    episode steps: 958   return: -20.0\n",
            "Episode: 72    episode steps: 923   return: -21.0\n",
            "Episode: 73    episode steps: 1046  return: -20.0\n",
            "Episode: 74    episode steps: 924   return: -21.0\n",
            "Episode: 75    episode steps: 904   return: -21.0\n",
            "Episode: 76    episode steps: 785   return: -21.0\n",
            "Episode: 77    episode steps: 883   return: -21.0\n"
          ]
        }
      ],
      "source": [
        "!python train_qrdqn.py --cuda --env_id PongNoFrameskip-v4 --seed 0 --config config/qrdqn.yaml"
      ]
    }
  ],
  "metadata": {
    "colab": {
      "provenance": [],
      "authorship_tag": "ABX9TyOP/Ai80AevkPh+3aNaGocn",
      "include_colab_link": true
    },
    "kernelspec": {
      "display_name": "Python 3",
      "name": "python3"
    },
    "language_info": {
      "name": "python"
    }
  },
  "nbformat": 4,
  "nbformat_minor": 0
}